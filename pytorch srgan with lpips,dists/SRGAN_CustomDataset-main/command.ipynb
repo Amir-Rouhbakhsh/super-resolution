{
 "cells": [
  {
   "cell_type": "code",
   "execution_count": 1,
   "metadata": {},
   "outputs": [
    {
     "name": "stdout",
     "output_type": "stream",
     "text": [
      "Defaulting to user installation because normal site-packages is not writeable\n",
      "Requirement already satisfied: scikit-image in c:\\users\\amir\\appdata\\roaming\\python\\python39\\site-packages (0.22.0)\n",
      "Requirement already satisfied: numpy>=1.22 in c:\\users\\amir\\appdata\\roaming\\python\\python39\\site-packages (from scikit-image) (1.24.4)\n",
      "Requirement already satisfied: scipy>=1.8 in c:\\users\\amir\\appdata\\roaming\\python\\python39\\site-packages (from scikit-image) (1.12.0)\n",
      "Requirement already satisfied: networkx>=2.8 in c:\\programdata\\anaconda3\\lib\\site-packages (from scikit-image) (2.8.4)\n",
      "Requirement already satisfied: pillow>=9.0.1 in c:\\users\\amir\\appdata\\roaming\\python\\python39\\site-packages (from scikit-image) (11.1.0)\n",
      "Requirement already satisfied: imageio>=2.27 in c:\\users\\amir\\appdata\\roaming\\python\\python39\\site-packages (from scikit-image) (2.34.1)\n",
      "Requirement already satisfied: tifffile>=2022.8.12 in c:\\users\\amir\\appdata\\roaming\\python\\python39\\site-packages (from scikit-image) (2024.5.10)\n",
      "Requirement already satisfied: packaging>=21 in c:\\programdata\\anaconda3\\lib\\site-packages (from scikit-image) (21.3)\n",
      "Requirement already satisfied: lazy_loader>=0.3 in c:\\users\\amir\\appdata\\roaming\\python\\python39\\site-packages (from scikit-image) (0.4)\n",
      "Requirement already satisfied: pyparsing!=3.0.5,>=2.0.2 in c:\\programdata\\anaconda3\\lib\\site-packages (from packaging>=21->scikit-image) (3.0.9)\n",
      "Note: you may need to restart the kernel to use updated packages.\n"
     ]
    },
    {
     "name": "stderr",
     "output_type": "stream",
     "text": [
      "\n",
      "[notice] A new release of pip is available: 25.0 -> 25.0.1\n",
      "[notice] To update, run: python.exe -m pip install --upgrade pip\n"
     ]
    }
   ],
   "source": [
    "pip install scikit-image"
   ]
  },
  {
   "cell_type": "code",
   "execution_count": 13,
   "metadata": {},
   "outputs": [
    {
     "name": "stdout",
     "output_type": "stream",
     "text": [
      "Defaulting to user installation because normal site-packages is not writeable\n",
      "Collecting DISTS\n",
      "  Using cached dists-0.2.tar.gz (3.2 kB)\n",
      "  Preparing metadata (setup.py): started\n",
      "  Preparing metadata (setup.py): finished with status 'done'\n",
      "Building wheels for collected packages: DISTS\n",
      "  Building wheel for DISTS (setup.py): started\n",
      "  Building wheel for DISTS (setup.py): finished with status 'done'\n",
      "  Created wheel for DISTS: filename=dists-0.2-py3-none-any.whl size=4671 sha256=0da09d82e2528ee2733ef1ab425507ff39e5ebbcf1a14467de5ccbf500303c2b\n",
      "  Stored in directory: c:\\users\\amir\\appdata\\local\\pip\\cache\\wheels\\c2\\b0\\59\\092705d40d30fb0d3a8ad25b92e08aeb4d47c1543d60e7f23a\n",
      "Successfully built DISTS\n",
      "Installing collected packages: DISTS\n",
      "Successfully installed DISTS-0.2\n",
      "Note: you may need to restart the kernel to use updated packages.\n"
     ]
    },
    {
     "name": "stderr",
     "output_type": "stream",
     "text": [
      "\n",
      "[notice] A new release of pip is available: 25.0 -> 25.0.1\n",
      "[notice] To update, run: python.exe -m pip install --upgrade pip\n"
     ]
    }
   ],
   "source": [
    "pip install DISTS"
   ]
  },
  {
   "cell_type": "code",
   "execution_count": 14,
   "metadata": {},
   "outputs": [],
   "source": [
    "import DISTS_pytorch"
   ]
  },
  {
   "cell_type": "code",
   "execution_count": 17,
   "metadata": {},
   "outputs": [],
   "source": [
    "from DISTS_pytorch import DISTS_pt"
   ]
  },
  {
   "cell_type": "code",
   "execution_count": 18,
   "metadata": {},
   "outputs": [],
   "source": [
    "weights_path = 'C:/Users/Amir/Downloads/DISTS-master (1)/DISTS-master/DISTS_pytorch/weights.pt'"
   ]
  },
  {
   "cell_type": "code",
   "execution_count": 20,
   "metadata": {},
   "outputs": [],
   "source": [
    "dists_model = DISTS_pt.DISTS()"
   ]
  },
  {
   "cell_type": "code",
   "execution_count": null,
   "metadata": {},
   "outputs": [],
   "source": [
    "!python main.py --LR_path C:/SRGAN_CustomDataset-uav2/SRGAN_CustomDataset-main/custom_dataset/hr_train_LR --GT_path C:/SRGAN_CustomDataset-uav2/SRGAN_CustomDataset-main/custom_dataset/hr_train_HR"
   ]
  },
  {
   "cell_type": "code",
   "execution_count": 7,
   "metadata": {},
   "outputs": [
    {
     "name": "stderr",
     "output_type": "stream",
     "text": [
      "C:\\Users\\Amir\\AppData\\Roaming\\Python\\Python39\\site-packages\\torch\\nn\\modules\\conv.py:456: UserWarning: Plan failed with a cudnnException: CUDNN_BACKEND_EXECUTION_PLAN_DESCRIPTOR: cudnnFinalize Descriptor Failed cudnn_status: CUDNN_STATUS_NOT_SUPPORTED (Triggered internally at C:\\actions-runner\\_work\\pytorch\\pytorch\\builder\\windows\\pytorch\\aten\\src\\ATen\\native\\cudnn\\Conv_v8.cpp:919.)\n",
      "  return F.conv2d(input, weight, bias, self.stride,\n"
     ]
    }
   ],
   "source": [
    "!python main.py --mode test   --LR_path C:/SRGAN_CustomDataset-uav2/SRGAN_CustomDataset-main/custom_dataset/hr_valid_LR --generator_path C:/SRGAN_CustomDataset-uav2/SRGAN_CustomDataset-main/model/pre_trained_model_80000.pt"
   ]
  }
 ],
 "metadata": {
  "kernelspec": {
   "display_name": "base",
   "language": "python",
   "name": "python3"
  },
  "language_info": {
   "codemirror_mode": {
    "name": "ipython",
    "version": 3
   },
   "file_extension": ".py",
   "mimetype": "text/x-python",
   "name": "python",
   "nbconvert_exporter": "python",
   "pygments_lexer": "ipython3",
   "version": "3.9.13"
  }
 },
 "nbformat": 4,
 "nbformat_minor": 2
}
